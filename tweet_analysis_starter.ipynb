{
 "cells": [
  {
   "cell_type": "markdown",
   "metadata": {},
   "source": [
    "# Twitter Vaccine Communication Analysis\n",
    "\n",
    "This notebook helps analyze tweets related to polio vaccination in Kenya."
   ]
  },
  {
   "cell_type": "code",
   "execution_count": 2,
   "metadata": {},
   "outputs": [
    {
     "name": "stdout",
     "output_type": "stream",
     "text": [
      "Collecting textblob\n",
      "  Using cached textblob-0.19.0-py3-none-any.whl.metadata (4.4 kB)\n",
      "Requirement already satisfied: nltk>=3.9 in c:\\users\\administrator\\anaconda3\\lib\\site-packages (from textblob) (3.9.1)\n",
      "Requirement already satisfied: click in c:\\users\\administrator\\anaconda3\\lib\\site-packages (from nltk>=3.9->textblob) (8.1.7)\n",
      "Requirement already satisfied: joblib in c:\\users\\administrator\\anaconda3\\lib\\site-packages (from nltk>=3.9->textblob) (1.4.2)\n",
      "Requirement already satisfied: regex>=2021.8.3 in c:\\users\\administrator\\anaconda3\\lib\\site-packages (from nltk>=3.9->textblob) (2024.9.11)\n",
      "Requirement already satisfied: tqdm in c:\\users\\administrator\\anaconda3\\lib\\site-packages (from nltk>=3.9->textblob) (4.66.5)\n",
      "Requirement already satisfied: colorama in c:\\users\\administrator\\anaconda3\\lib\\site-packages (from click->nltk>=3.9->textblob) (0.4.6)\n",
      "Using cached textblob-0.19.0-py3-none-any.whl (624 kB)\n",
      "Installing collected packages: textblob\n",
      "Successfully installed textblob-0.19.0\n"
     ]
    }
   ],
   "source": [
    "!pip install textblob"
   ]
  },
  {
   "cell_type": "code",
   "execution_count": 13,
   "metadata": {},
   "outputs": [
    {
     "name": "stderr",
     "output_type": "stream",
     "text": [
      "[nltk_data] Downloading package punkt to\n",
      "[nltk_data]     C:\\Users\\Administrator\\AppData\\Roaming\\nltk_data...\n",
      "[nltk_data]   Unzipping tokenizers\\punkt.zip.\n"
     ]
    },
    {
     "data": {
      "text/plain": [
       "True"
      ]
     },
     "execution_count": 13,
     "metadata": {},
     "output_type": "execute_result"
    }
   ],
   "source": [
    "import nltk\n",
    "nltk.download('punkt')\n"
   ]
  },
  {
   "cell_type": "code",
   "execution_count": 14,
   "metadata": {},
   "outputs": [],
   "source": [
    "# 1. Load Libraries\n",
    "import pandas as pd\n",
    "import matplotlib.pyplot as plt\n",
    "import seaborn as sns\n",
    "from textblob import TextBlob\n",
    "import re\n",
    "from datetime import datetime\n",
    "\n",
    "# For notebook display\n",
    "%matplotlib inline\n",
    "sns.set(style='whitegrid')"
   ]
  },
  {
   "cell_type": "code",
   "execution_count": 15,
   "metadata": {},
   "outputs": [
    {
     "data": {
      "text/html": [
       "<div>\n",
       "<style scoped>\n",
       "    .dataframe tbody tr th:only-of-type {\n",
       "        vertical-align: middle;\n",
       "    }\n",
       "\n",
       "    .dataframe tbody tr th {\n",
       "        vertical-align: top;\n",
       "    }\n",
       "\n",
       "    .dataframe thead th {\n",
       "        text-align: right;\n",
       "    }\n",
       "</style>\n",
       "<table border=\"1\" class=\"dataframe\">\n",
       "  <thead>\n",
       "    <tr style=\"text-align: right;\">\n",
       "      <th></th>\n",
       "      <th>tweet_id</th>\n",
       "      <th>author_id</th>\n",
       "      <th>created_at</th>\n",
       "      <th>text</th>\n",
       "      <th>retweet_count</th>\n",
       "      <th>reply_count</th>\n",
       "      <th>like_count</th>\n",
       "      <th>quote_count</th>\n",
       "    </tr>\n",
       "  </thead>\n",
       "  <tbody>\n",
       "    <tr>\n",
       "      <th>0</th>\n",
       "      <td>1855339720722554962</td>\n",
       "      <td>4871317955</td>\n",
       "      <td>2024-11-09 20:00:34+00:00</td>\n",
       "      <td>https://t.co/3N0TcjZjJV</td>\n",
       "      <td>2</td>\n",
       "      <td>21</td>\n",
       "      <td>11</td>\n",
       "      <td>1</td>\n",
       "    </tr>\n",
       "    <tr>\n",
       "      <th>1</th>\n",
       "      <td>1855463721838969104</td>\n",
       "      <td>2969435825</td>\n",
       "      <td>2024-11-10 04:13:18+00:00</td>\n",
       "      <td>@MOH_Kenya has reassured the public that the r...</td>\n",
       "      <td>5</td>\n",
       "      <td>2</td>\n",
       "      <td>11</td>\n",
       "      <td>1</td>\n",
       "    </tr>\n",
       "    <tr>\n",
       "      <th>2</th>\n",
       "      <td>1841772181358780732</td>\n",
       "      <td>4871317955</td>\n",
       "      <td>2024-10-03 09:28:01+00:00</td>\n",
       "      <td>The 5-day vaccination campaign against #polio ...</td>\n",
       "      <td>5</td>\n",
       "      <td>2</td>\n",
       "      <td>8</td>\n",
       "      <td>0</td>\n",
       "    </tr>\n",
       "    <tr>\n",
       "      <th>3</th>\n",
       "      <td>1841886549035675707</td>\n",
       "      <td>25985333</td>\n",
       "      <td>2024-10-03 17:02:28+00:00</td>\n",
       "      <td>Coming up…\\nUnderstanding the role of Communit...</td>\n",
       "      <td>4</td>\n",
       "      <td>0</td>\n",
       "      <td>18</td>\n",
       "      <td>0</td>\n",
       "    </tr>\n",
       "    <tr>\n",
       "      <th>4</th>\n",
       "      <td>1841892124440092753</td>\n",
       "      <td>25985333</td>\n",
       "      <td>2024-10-03 17:24:37+00:00</td>\n",
       "      <td>Eradicating Polio In Kenya.\\n\\nJoin us now for...</td>\n",
       "      <td>1</td>\n",
       "      <td>2</td>\n",
       "      <td>6</td>\n",
       "      <td>0</td>\n",
       "    </tr>\n",
       "  </tbody>\n",
       "</table>\n",
       "</div>"
      ],
      "text/plain": [
       "              tweet_id   author_id                created_at  \\\n",
       "0  1855339720722554962  4871317955 2024-11-09 20:00:34+00:00   \n",
       "1  1855463721838969104  2969435825 2024-11-10 04:13:18+00:00   \n",
       "2  1841772181358780732  4871317955 2024-10-03 09:28:01+00:00   \n",
       "3  1841886549035675707    25985333 2024-10-03 17:02:28+00:00   \n",
       "4  1841892124440092753    25985333 2024-10-03 17:24:37+00:00   \n",
       "\n",
       "                                                text  retweet_count  \\\n",
       "0                            https://t.co/3N0TcjZjJV              2   \n",
       "1  @MOH_Kenya has reassured the public that the r...              5   \n",
       "2  The 5-day vaccination campaign against #polio ...              5   \n",
       "3  Coming up…\\nUnderstanding the role of Communit...              4   \n",
       "4  Eradicating Polio In Kenya.\\n\\nJoin us now for...              1   \n",
       "\n",
       "   reply_count  like_count  quote_count  \n",
       "0           21          11            1  \n",
       "1            2          11            1  \n",
       "2            2           8            0  \n",
       "3            0          18            0  \n",
       "4            2           6            0  "
      ]
     },
     "execution_count": 15,
     "metadata": {},
     "output_type": "execute_result"
    }
   ],
   "source": [
    "# 2. Load the CSV\n",
    "df = pd.read_csv('tweets_output.csv')\n",
    "df['created_at'] = pd.to_datetime(df['created_at'])\n",
    "df.head()"
   ]
  },
  {
   "cell_type": "markdown",
   "metadata": {},
   "source": [
    "## Preprocessing Tweet Text"
   ]
  },
  {
   "cell_type": "code",
   "execution_count": 16,
   "metadata": {},
   "outputs": [
    {
     "data": {
      "text/html": [
       "<div>\n",
       "<style scoped>\n",
       "    .dataframe tbody tr th:only-of-type {\n",
       "        vertical-align: middle;\n",
       "    }\n",
       "\n",
       "    .dataframe tbody tr th {\n",
       "        vertical-align: top;\n",
       "    }\n",
       "\n",
       "    .dataframe thead th {\n",
       "        text-align: right;\n",
       "    }\n",
       "</style>\n",
       "<table border=\"1\" class=\"dataframe\">\n",
       "  <thead>\n",
       "    <tr style=\"text-align: right;\">\n",
       "      <th></th>\n",
       "      <th>text</th>\n",
       "      <th>clean_text</th>\n",
       "    </tr>\n",
       "  </thead>\n",
       "  <tbody>\n",
       "    <tr>\n",
       "      <th>0</th>\n",
       "      <td>https://t.co/3N0TcjZjJV</td>\n",
       "      <td></td>\n",
       "    </tr>\n",
       "    <tr>\n",
       "      <th>1</th>\n",
       "      <td>@MOH_Kenya has reassured the public that the r...</td>\n",
       "      <td>has reassured the public that the recent side...</td>\n",
       "    </tr>\n",
       "    <tr>\n",
       "      <th>2</th>\n",
       "      <td>The 5-day vaccination campaign against #polio ...</td>\n",
       "      <td>the 5day vaccination campaign against polio wi...</td>\n",
       "    </tr>\n",
       "    <tr>\n",
       "      <th>3</th>\n",
       "      <td>Coming up…\\nUnderstanding the role of Communit...</td>\n",
       "      <td>coming up\\nunderstanding the role of community...</td>\n",
       "    </tr>\n",
       "    <tr>\n",
       "      <th>4</th>\n",
       "      <td>Eradicating Polio In Kenya.\\n\\nJoin us now for...</td>\n",
       "      <td>eradicating polio in kenya\\n\\njoin us now for ...</td>\n",
       "    </tr>\n",
       "  </tbody>\n",
       "</table>\n",
       "</div>"
      ],
      "text/plain": [
       "                                                text  \\\n",
       "0                            https://t.co/3N0TcjZjJV   \n",
       "1  @MOH_Kenya has reassured the public that the r...   \n",
       "2  The 5-day vaccination campaign against #polio ...   \n",
       "3  Coming up…\\nUnderstanding the role of Communit...   \n",
       "4  Eradicating Polio In Kenya.\\n\\nJoin us now for...   \n",
       "\n",
       "                                          clean_text  \n",
       "0                                                     \n",
       "1   has reassured the public that the recent side...  \n",
       "2  the 5day vaccination campaign against polio wi...  \n",
       "3  coming up\\nunderstanding the role of community...  \n",
       "4  eradicating polio in kenya\\n\\njoin us now for ...  "
      ]
     },
     "execution_count": 16,
     "metadata": {},
     "output_type": "execute_result"
    }
   ],
   "source": [
    "# Clean tweet text\n",
    "def clean_text(text):\n",
    "    text = str(text)\n",
    "    text = re.sub(r'http\\S+', '', text)\n",
    "    text = re.sub(r'@[\\w_]+', '', text)\n",
    "    text = re.sub(r'#', '', text)\n",
    "    text = re.sub(r'[^\\w\\s]', '', text)\n",
    "    return text.lower()\n",
    "\n",
    "df['clean_text'] = df['text'].apply(clean_text)\n",
    "df[['text', 'clean_text']].head()"
   ]
  },
  {
   "cell_type": "markdown",
   "metadata": {},
   "source": [
    "## Sentiment Analysis with TextBlob"
   ]
  },
  {
   "cell_type": "code",
   "execution_count": 17,
   "metadata": {},
   "outputs": [
    {
     "data": {
      "text/html": [
       "<div>\n",
       "<style scoped>\n",
       "    .dataframe tbody tr th:only-of-type {\n",
       "        vertical-align: middle;\n",
       "    }\n",
       "\n",
       "    .dataframe tbody tr th {\n",
       "        vertical-align: top;\n",
       "    }\n",
       "\n",
       "    .dataframe thead th {\n",
       "        text-align: right;\n",
       "    }\n",
       "</style>\n",
       "<table border=\"1\" class=\"dataframe\">\n",
       "  <thead>\n",
       "    <tr style=\"text-align: right;\">\n",
       "      <th></th>\n",
       "      <th>clean_text</th>\n",
       "      <th>polarity</th>\n",
       "      <th>subjectivity</th>\n",
       "    </tr>\n",
       "  </thead>\n",
       "  <tbody>\n",
       "    <tr>\n",
       "      <th>0</th>\n",
       "      <td></td>\n",
       "      <td>0.000000</td>\n",
       "      <td>0.000000</td>\n",
       "    </tr>\n",
       "    <tr>\n",
       "      <th>1</th>\n",
       "      <td>has reassured the public that the recent side...</td>\n",
       "      <td>-0.054167</td>\n",
       "      <td>0.304167</td>\n",
       "    </tr>\n",
       "    <tr>\n",
       "      <th>2</th>\n",
       "      <td>the 5day vaccination campaign against polio wi...</td>\n",
       "      <td>0.160000</td>\n",
       "      <td>0.540000</td>\n",
       "    </tr>\n",
       "    <tr>\n",
       "      <th>3</th>\n",
       "      <td>coming up\\nunderstanding the role of community...</td>\n",
       "      <td>0.000000</td>\n",
       "      <td>0.000000</td>\n",
       "    </tr>\n",
       "    <tr>\n",
       "      <th>4</th>\n",
       "      <td>eradicating polio in kenya\\n\\njoin us now for ...</td>\n",
       "      <td>0.000000</td>\n",
       "      <td>0.000000</td>\n",
       "    </tr>\n",
       "  </tbody>\n",
       "</table>\n",
       "</div>"
      ],
      "text/plain": [
       "                                          clean_text  polarity  subjectivity\n",
       "0                                                     0.000000      0.000000\n",
       "1   has reassured the public that the recent side... -0.054167      0.304167\n",
       "2  the 5day vaccination campaign against polio wi...  0.160000      0.540000\n",
       "3  coming up\\nunderstanding the role of community...  0.000000      0.000000\n",
       "4  eradicating polio in kenya\\n\\njoin us now for ...  0.000000      0.000000"
      ]
     },
     "execution_count": 17,
     "metadata": {},
     "output_type": "execute_result"
    }
   ],
   "source": [
    "df['polarity'] = df['clean_text'].apply(lambda x: TextBlob(x).sentiment.polarity)\n",
    "df['subjectivity'] = df['clean_text'].apply(lambda x: TextBlob(x).sentiment.subjectivity)\n",
    "df[['clean_text', 'polarity', 'subjectivity']].head()"
   ]
  },
  {
   "cell_type": "markdown",
   "metadata": {},
   "source": [
    "## Plot Sentiment Distribution"
   ]
  },
  {
   "cell_type": "code",
   "execution_count": 18,
   "metadata": {},
   "outputs": [
    {
     "data": {
      "image/png": "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",
      "text/plain": [
       "<Figure size 1000x400 with 1 Axes>"
      ]
     },
     "metadata": {},
     "output_type": "display_data"
    }
   ],
   "source": [
    "plt.figure(figsize=(10, 4))\n",
    "sns.histplot(df['polarity'], bins=30, kde=True)\n",
    "plt.title('Polarity Distribution of Tweets')\n",
    "plt.xlabel('Polarity Score')\n",
    "plt.ylabel('Tweet Count')\n",
    "plt.show()"
   ]
  },
  {
   "cell_type": "markdown",
   "metadata": {},
   "source": [
    "## Engagement Analysis"
   ]
  },
  {
   "cell_type": "code",
   "execution_count": 19,
   "metadata": {},
   "outputs": [
    {
     "data": {
      "text/html": [
       "<div>\n",
       "<style scoped>\n",
       "    .dataframe tbody tr th:only-of-type {\n",
       "        vertical-align: middle;\n",
       "    }\n",
       "\n",
       "    .dataframe tbody tr th {\n",
       "        vertical-align: top;\n",
       "    }\n",
       "\n",
       "    .dataframe thead th {\n",
       "        text-align: right;\n",
       "    }\n",
       "</style>\n",
       "<table border=\"1\" class=\"dataframe\">\n",
       "  <thead>\n",
       "    <tr style=\"text-align: right;\">\n",
       "      <th></th>\n",
       "      <th>retweet_count</th>\n",
       "      <th>reply_count</th>\n",
       "      <th>like_count</th>\n",
       "      <th>quote_count</th>\n",
       "    </tr>\n",
       "  </thead>\n",
       "  <tbody>\n",
       "    <tr>\n",
       "      <th>count</th>\n",
       "      <td>34.000000</td>\n",
       "      <td>34.000000</td>\n",
       "      <td>34.000000</td>\n",
       "      <td>34.000000</td>\n",
       "    </tr>\n",
       "    <tr>\n",
       "      <th>mean</th>\n",
       "      <td>8.970588</td>\n",
       "      <td>32.117647</td>\n",
       "      <td>29.529412</td>\n",
       "      <td>4.764706</td>\n",
       "    </tr>\n",
       "    <tr>\n",
       "      <th>std</th>\n",
       "      <td>8.632164</td>\n",
       "      <td>42.755659</td>\n",
       "      <td>25.257744</td>\n",
       "      <td>9.991083</td>\n",
       "    </tr>\n",
       "    <tr>\n",
       "      <th>min</th>\n",
       "      <td>0.000000</td>\n",
       "      <td>0.000000</td>\n",
       "      <td>6.000000</td>\n",
       "      <td>0.000000</td>\n",
       "    </tr>\n",
       "    <tr>\n",
       "      <th>25%</th>\n",
       "      <td>4.000000</td>\n",
       "      <td>8.000000</td>\n",
       "      <td>10.250000</td>\n",
       "      <td>0.000000</td>\n",
       "    </tr>\n",
       "    <tr>\n",
       "      <th>50%</th>\n",
       "      <td>5.000000</td>\n",
       "      <td>19.000000</td>\n",
       "      <td>24.000000</td>\n",
       "      <td>1.000000</td>\n",
       "    </tr>\n",
       "    <tr>\n",
       "      <th>75%</th>\n",
       "      <td>10.750000</td>\n",
       "      <td>36.750000</td>\n",
       "      <td>40.000000</td>\n",
       "      <td>5.000000</td>\n",
       "    </tr>\n",
       "    <tr>\n",
       "      <th>max</th>\n",
       "      <td>38.000000</td>\n",
       "      <td>223.000000</td>\n",
       "      <td>125.000000</td>\n",
       "      <td>55.000000</td>\n",
       "    </tr>\n",
       "  </tbody>\n",
       "</table>\n",
       "</div>"
      ],
      "text/plain": [
       "       retweet_count  reply_count  like_count  quote_count\n",
       "count      34.000000    34.000000   34.000000    34.000000\n",
       "mean        8.970588    32.117647   29.529412     4.764706\n",
       "std         8.632164    42.755659   25.257744     9.991083\n",
       "min         0.000000     0.000000    6.000000     0.000000\n",
       "25%         4.000000     8.000000   10.250000     0.000000\n",
       "50%         5.000000    19.000000   24.000000     1.000000\n",
       "75%        10.750000    36.750000   40.000000     5.000000\n",
       "max        38.000000   223.000000  125.000000    55.000000"
      ]
     },
     "execution_count": 19,
     "metadata": {},
     "output_type": "execute_result"
    }
   ],
   "source": [
    "engagement_cols = ['retweet_count', 'reply_count', 'like_count', 'quote_count']\n",
    "df[engagement_cols].describe()"
   ]
  },
  {
   "cell_type": "code",
   "execution_count": 20,
   "metadata": {},
   "outputs": [
    {
     "data": {
      "image/png": "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",
      "text/plain": [
       "<Figure size 1000x600 with 1 Axes>"
      ]
     },
     "metadata": {},
     "output_type": "display_data"
    }
   ],
   "source": [
    "plt.figure(figsize=(10, 6))\n",
    "df[engagement_cols].sum().sort_values().plot(kind='barh')\n",
    "plt.title('Total Engagement Metrics')\n",
    "plt.xlabel('Count')\n",
    "plt.show()"
   ]
  },
  {
   "cell_type": "markdown",
   "metadata": {},
   "source": [
    "## Time Series: Tweet Count Over Time"
   ]
  },
  {
   "cell_type": "code",
   "execution_count": 21,
   "metadata": {},
   "outputs": [
    {
     "data": {
      "image/png": "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",
      "text/plain": [
       "<Figure size 1200x400 with 1 Axes>"
      ]
     },
     "metadata": {},
     "output_type": "display_data"
    }
   ],
   "source": [
    "df.set_index('created_at')['text'].resample('D').count().plot(figsize=(12, 4), title='Tweet Frequency Over Time')\n",
    "plt.ylabel('Tweet Count')\n",
    "plt.show()"
   ]
  },
  {
   "cell_type": "code",
   "execution_count": 22,
   "metadata": {},
   "outputs": [
    {
     "name": "stdout",
     "output_type": "stream",
     "text": [
      "Requirement already satisfied: pandas in c:\\users\\administrator\\anaconda3\\lib\\site-packages (2.2.3)\n",
      "Requirement already satisfied: matplotlib in c:\\users\\administrator\\anaconda3\\lib\\site-packages (3.10.0)\n",
      "Requirement already satisfied: seaborn in c:\\users\\administrator\\anaconda3\\lib\\site-packages (0.13.2)\n",
      "Requirement already satisfied: textblob in c:\\users\\administrator\\anaconda3\\lib\\site-packages (0.19.0)\n",
      "Collecting python-docx\n",
      "  Downloading python_docx-1.1.2-py3-none-any.whl.metadata (2.0 kB)\n",
      "Requirement already satisfied: numpy>=1.26.0 in c:\\users\\administrator\\anaconda3\\lib\\site-packages (from pandas) (1.26.4)\n",
      "Requirement already satisfied: python-dateutil>=2.8.2 in c:\\users\\administrator\\anaconda3\\lib\\site-packages (from pandas) (2.9.0.post0)\n",
      "Requirement already satisfied: pytz>=2020.1 in c:\\users\\administrator\\anaconda3\\lib\\site-packages (from pandas) (2024.1)\n",
      "Requirement already satisfied: tzdata>=2022.7 in c:\\users\\administrator\\anaconda3\\lib\\site-packages (from pandas) (2023.3)\n",
      "Requirement already satisfied: contourpy>=1.0.1 in c:\\users\\administrator\\anaconda3\\lib\\site-packages (from matplotlib) (1.2.0)\n",
      "Requirement already satisfied: cycler>=0.10 in c:\\users\\administrator\\anaconda3\\lib\\site-packages (from matplotlib) (0.11.0)\n",
      "Requirement already satisfied: fonttools>=4.22.0 in c:\\users\\administrator\\anaconda3\\lib\\site-packages (from matplotlib) (4.51.0)\n",
      "Requirement already satisfied: kiwisolver>=1.3.1 in c:\\users\\administrator\\anaconda3\\lib\\site-packages (from matplotlib) (1.4.4)\n",
      "Requirement already satisfied: packaging>=20.0 in c:\\users\\administrator\\anaconda3\\lib\\site-packages (from matplotlib) (24.1)\n",
      "Requirement already satisfied: pillow>=8 in c:\\users\\administrator\\anaconda3\\lib\\site-packages (from matplotlib) (10.4.0)\n",
      "Requirement already satisfied: pyparsing>=2.3.1 in c:\\users\\administrator\\anaconda3\\lib\\site-packages (from matplotlib) (3.1.2)\n",
      "Requirement already satisfied: nltk>=3.9 in c:\\users\\administrator\\anaconda3\\lib\\site-packages (from textblob) (3.9.1)\n",
      "Requirement already satisfied: lxml>=3.1.0 in c:\\users\\administrator\\anaconda3\\lib\\site-packages (from python-docx) (5.2.1)\n",
      "Requirement already satisfied: typing-extensions>=4.9.0 in c:\\users\\administrator\\anaconda3\\lib\\site-packages (from python-docx) (4.11.0)\n",
      "Requirement already satisfied: click in c:\\users\\administrator\\anaconda3\\lib\\site-packages (from nltk>=3.9->textblob) (8.1.7)\n",
      "Requirement already satisfied: joblib in c:\\users\\administrator\\anaconda3\\lib\\site-packages (from nltk>=3.9->textblob) (1.4.2)\n",
      "Requirement already satisfied: regex>=2021.8.3 in c:\\users\\administrator\\anaconda3\\lib\\site-packages (from nltk>=3.9->textblob) (2024.9.11)\n",
      "Requirement already satisfied: tqdm in c:\\users\\administrator\\anaconda3\\lib\\site-packages (from nltk>=3.9->textblob) (4.66.5)\n",
      "Requirement already satisfied: six>=1.5 in c:\\users\\administrator\\anaconda3\\lib\\site-packages (from python-dateutil>=2.8.2->pandas) (1.16.0)\n",
      "Requirement already satisfied: colorama in c:\\users\\administrator\\anaconda3\\lib\\site-packages (from click->nltk>=3.9->textblob) (0.4.6)\n",
      "Downloading python_docx-1.1.2-py3-none-any.whl (244 kB)\n",
      "Installing collected packages: python-docx\n",
      "Successfully installed python-docx-1.1.2\n",
      "Note: you may need to restart the kernel to use updated packages.\n"
     ]
    }
   ],
   "source": [
    "pip install pandas matplotlib seaborn textblob python-docx\n"
   ]
  },
  {
   "cell_type": "code",
   "execution_count": 23,
   "metadata": {},
   "outputs": [
    {
     "ename": "ValueError",
     "evalue": "Excel does not support datetimes with timezones. Please ensure that datetimes are timezone unaware before writing to Excel.",
     "output_type": "error",
     "traceback": [
      "\u001b[1;31m---------------------------------------------------------------------------\u001b[0m",
      "\u001b[1;31mValueError\u001b[0m                                Traceback (most recent call last)",
      "Cell \u001b[1;32mIn[23], line 28\u001b[0m\n\u001b[0;32m     26\u001b[0m \u001b[38;5;66;03m# Export analyzed data\u001b[39;00m\n\u001b[0;32m     27\u001b[0m df\u001b[38;5;241m.\u001b[39mto_csv(\u001b[38;5;124m\"\u001b[39m\u001b[38;5;124manalyzed_tweets.csv\u001b[39m\u001b[38;5;124m\"\u001b[39m, index\u001b[38;5;241m=\u001b[39m\u001b[38;5;28;01mFalse\u001b[39;00m)\n\u001b[1;32m---> 28\u001b[0m df\u001b[38;5;241m.\u001b[39mto_excel(\u001b[38;5;124m\"\u001b[39m\u001b[38;5;124manalyzed_tweets.xlsx\u001b[39m\u001b[38;5;124m\"\u001b[39m, index\u001b[38;5;241m=\u001b[39m\u001b[38;5;28;01mFalse\u001b[39;00m)\n\u001b[0;32m     30\u001b[0m \u001b[38;5;66;03m# Plot 1: Sentiment Distribution\u001b[39;00m\n\u001b[0;32m     31\u001b[0m plt\u001b[38;5;241m.\u001b[39mfigure(figsize\u001b[38;5;241m=\u001b[39m(\u001b[38;5;241m6\u001b[39m, \u001b[38;5;241m4\u001b[39m))\n",
      "File \u001b[1;32m~\\anaconda3\\Lib\\site-packages\\pandas\\util\\_decorators.py:333\u001b[0m, in \u001b[0;36mdeprecate_nonkeyword_arguments.<locals>.decorate.<locals>.wrapper\u001b[1;34m(*args, **kwargs)\u001b[0m\n\u001b[0;32m    327\u001b[0m \u001b[38;5;28;01mif\u001b[39;00m \u001b[38;5;28mlen\u001b[39m(args) \u001b[38;5;241m>\u001b[39m num_allow_args:\n\u001b[0;32m    328\u001b[0m     warnings\u001b[38;5;241m.\u001b[39mwarn(\n\u001b[0;32m    329\u001b[0m         msg\u001b[38;5;241m.\u001b[39mformat(arguments\u001b[38;5;241m=\u001b[39m_format_argument_list(allow_args)),\n\u001b[0;32m    330\u001b[0m         \u001b[38;5;167;01mFutureWarning\u001b[39;00m,\n\u001b[0;32m    331\u001b[0m         stacklevel\u001b[38;5;241m=\u001b[39mfind_stack_level(),\n\u001b[0;32m    332\u001b[0m     )\n\u001b[1;32m--> 333\u001b[0m \u001b[38;5;28;01mreturn\u001b[39;00m func(\u001b[38;5;241m*\u001b[39margs, \u001b[38;5;241m*\u001b[39m\u001b[38;5;241m*\u001b[39mkwargs)\n",
      "File \u001b[1;32m~\\anaconda3\\Lib\\site-packages\\pandas\\core\\generic.py:2417\u001b[0m, in \u001b[0;36mNDFrame.to_excel\u001b[1;34m(self, excel_writer, sheet_name, na_rep, float_format, columns, header, index, index_label, startrow, startcol, engine, merge_cells, inf_rep, freeze_panes, storage_options, engine_kwargs)\u001b[0m\n\u001b[0;32m   2404\u001b[0m \u001b[38;5;28;01mfrom\u001b[39;00m \u001b[38;5;21;01mpandas\u001b[39;00m\u001b[38;5;21;01m.\u001b[39;00m\u001b[38;5;21;01mio\u001b[39;00m\u001b[38;5;21;01m.\u001b[39;00m\u001b[38;5;21;01mformats\u001b[39;00m\u001b[38;5;21;01m.\u001b[39;00m\u001b[38;5;21;01mexcel\u001b[39;00m \u001b[38;5;28;01mimport\u001b[39;00m ExcelFormatter\n\u001b[0;32m   2406\u001b[0m formatter \u001b[38;5;241m=\u001b[39m ExcelFormatter(\n\u001b[0;32m   2407\u001b[0m     df,\n\u001b[0;32m   2408\u001b[0m     na_rep\u001b[38;5;241m=\u001b[39mna_rep,\n\u001b[1;32m   (...)\u001b[0m\n\u001b[0;32m   2415\u001b[0m     inf_rep\u001b[38;5;241m=\u001b[39minf_rep,\n\u001b[0;32m   2416\u001b[0m )\n\u001b[1;32m-> 2417\u001b[0m formatter\u001b[38;5;241m.\u001b[39mwrite(\n\u001b[0;32m   2418\u001b[0m     excel_writer,\n\u001b[0;32m   2419\u001b[0m     sheet_name\u001b[38;5;241m=\u001b[39msheet_name,\n\u001b[0;32m   2420\u001b[0m     startrow\u001b[38;5;241m=\u001b[39mstartrow,\n\u001b[0;32m   2421\u001b[0m     startcol\u001b[38;5;241m=\u001b[39mstartcol,\n\u001b[0;32m   2422\u001b[0m     freeze_panes\u001b[38;5;241m=\u001b[39mfreeze_panes,\n\u001b[0;32m   2423\u001b[0m     engine\u001b[38;5;241m=\u001b[39mengine,\n\u001b[0;32m   2424\u001b[0m     storage_options\u001b[38;5;241m=\u001b[39mstorage_options,\n\u001b[0;32m   2425\u001b[0m     engine_kwargs\u001b[38;5;241m=\u001b[39mengine_kwargs,\n\u001b[0;32m   2426\u001b[0m )\n",
      "File \u001b[1;32m~\\anaconda3\\Lib\\site-packages\\pandas\\io\\formats\\excel.py:952\u001b[0m, in \u001b[0;36mExcelFormatter.write\u001b[1;34m(self, writer, sheet_name, startrow, startcol, freeze_panes, engine, storage_options, engine_kwargs)\u001b[0m\n\u001b[0;32m    949\u001b[0m     need_save \u001b[38;5;241m=\u001b[39m \u001b[38;5;28;01mTrue\u001b[39;00m\n\u001b[0;32m    951\u001b[0m \u001b[38;5;28;01mtry\u001b[39;00m:\n\u001b[1;32m--> 952\u001b[0m     writer\u001b[38;5;241m.\u001b[39m_write_cells(\n\u001b[0;32m    953\u001b[0m         formatted_cells,\n\u001b[0;32m    954\u001b[0m         sheet_name,\n\u001b[0;32m    955\u001b[0m         startrow\u001b[38;5;241m=\u001b[39mstartrow,\n\u001b[0;32m    956\u001b[0m         startcol\u001b[38;5;241m=\u001b[39mstartcol,\n\u001b[0;32m    957\u001b[0m         freeze_panes\u001b[38;5;241m=\u001b[39mfreeze_panes,\n\u001b[0;32m    958\u001b[0m     )\n\u001b[0;32m    959\u001b[0m \u001b[38;5;28;01mfinally\u001b[39;00m:\n\u001b[0;32m    960\u001b[0m     \u001b[38;5;66;03m# make sure to close opened file handles\u001b[39;00m\n\u001b[0;32m    961\u001b[0m     \u001b[38;5;28;01mif\u001b[39;00m need_save:\n",
      "File \u001b[1;32m~\\anaconda3\\Lib\\site-packages\\pandas\\io\\excel\\_openpyxl.py:486\u001b[0m, in \u001b[0;36mOpenpyxlWriter._write_cells\u001b[1;34m(self, cells, sheet_name, startrow, startcol, freeze_panes)\u001b[0m\n\u001b[0;32m    481\u001b[0m     freeze_panes \u001b[38;5;241m=\u001b[39m cast(\u001b[38;5;28mtuple\u001b[39m[\u001b[38;5;28mint\u001b[39m, \u001b[38;5;28mint\u001b[39m], freeze_panes)\n\u001b[0;32m    482\u001b[0m     wks\u001b[38;5;241m.\u001b[39mfreeze_panes \u001b[38;5;241m=\u001b[39m wks\u001b[38;5;241m.\u001b[39mcell(\n\u001b[0;32m    483\u001b[0m         row\u001b[38;5;241m=\u001b[39mfreeze_panes[\u001b[38;5;241m0\u001b[39m] \u001b[38;5;241m+\u001b[39m \u001b[38;5;241m1\u001b[39m, column\u001b[38;5;241m=\u001b[39mfreeze_panes[\u001b[38;5;241m1\u001b[39m] \u001b[38;5;241m+\u001b[39m \u001b[38;5;241m1\u001b[39m\n\u001b[0;32m    484\u001b[0m     )\n\u001b[1;32m--> 486\u001b[0m \u001b[38;5;28;01mfor\u001b[39;00m cell \u001b[38;5;129;01min\u001b[39;00m cells:\n\u001b[0;32m    487\u001b[0m     xcell \u001b[38;5;241m=\u001b[39m wks\u001b[38;5;241m.\u001b[39mcell(\n\u001b[0;32m    488\u001b[0m         row\u001b[38;5;241m=\u001b[39mstartrow \u001b[38;5;241m+\u001b[39m cell\u001b[38;5;241m.\u001b[39mrow \u001b[38;5;241m+\u001b[39m \u001b[38;5;241m1\u001b[39m, column\u001b[38;5;241m=\u001b[39mstartcol \u001b[38;5;241m+\u001b[39m cell\u001b[38;5;241m.\u001b[39mcol \u001b[38;5;241m+\u001b[39m \u001b[38;5;241m1\u001b[39m\n\u001b[0;32m    489\u001b[0m     )\n\u001b[0;32m    490\u001b[0m     xcell\u001b[38;5;241m.\u001b[39mvalue, fmt \u001b[38;5;241m=\u001b[39m \u001b[38;5;28mself\u001b[39m\u001b[38;5;241m.\u001b[39m_value_with_fmt(cell\u001b[38;5;241m.\u001b[39mval)\n",
      "File \u001b[1;32m~\\anaconda3\\Lib\\site-packages\\pandas\\io\\formats\\excel.py:890\u001b[0m, in \u001b[0;36mExcelFormatter.get_formatted_cells\u001b[1;34m(self)\u001b[0m\n\u001b[0;32m    888\u001b[0m \u001b[38;5;28;01mdef\u001b[39;00m \u001b[38;5;21mget_formatted_cells\u001b[39m(\u001b[38;5;28mself\u001b[39m) \u001b[38;5;241m-\u001b[39m\u001b[38;5;241m>\u001b[39m Iterable[ExcelCell]:\n\u001b[0;32m    889\u001b[0m     \u001b[38;5;28;01mfor\u001b[39;00m cell \u001b[38;5;129;01min\u001b[39;00m itertools\u001b[38;5;241m.\u001b[39mchain(\u001b[38;5;28mself\u001b[39m\u001b[38;5;241m.\u001b[39m_format_header(), \u001b[38;5;28mself\u001b[39m\u001b[38;5;241m.\u001b[39m_format_body()):\n\u001b[1;32m--> 890\u001b[0m         cell\u001b[38;5;241m.\u001b[39mval \u001b[38;5;241m=\u001b[39m \u001b[38;5;28mself\u001b[39m\u001b[38;5;241m.\u001b[39m_format_value(cell\u001b[38;5;241m.\u001b[39mval)\n\u001b[0;32m    891\u001b[0m         \u001b[38;5;28;01myield\u001b[39;00m cell\n",
      "File \u001b[1;32m~\\anaconda3\\Lib\\site-packages\\pandas\\io\\formats\\excel.py:607\u001b[0m, in \u001b[0;36mExcelFormatter._format_value\u001b[1;34m(self, val)\u001b[0m\n\u001b[0;32m    605\u001b[0m         val \u001b[38;5;241m=\u001b[39m \u001b[38;5;28mfloat\u001b[39m(\u001b[38;5;28mself\u001b[39m\u001b[38;5;241m.\u001b[39mfloat_format \u001b[38;5;241m%\u001b[39m val)\n\u001b[0;32m    606\u001b[0m \u001b[38;5;28;01mif\u001b[39;00m \u001b[38;5;28mgetattr\u001b[39m(val, \u001b[38;5;124m\"\u001b[39m\u001b[38;5;124mtzinfo\u001b[39m\u001b[38;5;124m\"\u001b[39m, \u001b[38;5;28;01mNone\u001b[39;00m) \u001b[38;5;129;01mis\u001b[39;00m \u001b[38;5;129;01mnot\u001b[39;00m \u001b[38;5;28;01mNone\u001b[39;00m:\n\u001b[1;32m--> 607\u001b[0m     \u001b[38;5;28;01mraise\u001b[39;00m \u001b[38;5;167;01mValueError\u001b[39;00m(\n\u001b[0;32m    608\u001b[0m         \u001b[38;5;124m\"\u001b[39m\u001b[38;5;124mExcel does not support datetimes with \u001b[39m\u001b[38;5;124m\"\u001b[39m\n\u001b[0;32m    609\u001b[0m         \u001b[38;5;124m\"\u001b[39m\u001b[38;5;124mtimezones. Please ensure that datetimes \u001b[39m\u001b[38;5;124m\"\u001b[39m\n\u001b[0;32m    610\u001b[0m         \u001b[38;5;124m\"\u001b[39m\u001b[38;5;124mare timezone unaware before writing to Excel.\u001b[39m\u001b[38;5;124m\"\u001b[39m\n\u001b[0;32m    611\u001b[0m     )\n\u001b[0;32m    612\u001b[0m \u001b[38;5;28;01mreturn\u001b[39;00m val\n",
      "\u001b[1;31mValueError\u001b[0m: Excel does not support datetimes with timezones. Please ensure that datetimes are timezone unaware before writing to Excel."
     ]
    }
   ],
   "source": [
    "import pandas as pd\n",
    "import matplotlib.pyplot as plt\n",
    "import seaborn as sns\n",
    "from docx import Document\n",
    "from docx.shared import Inches\n",
    "from textblob import TextBlob\n",
    "\n",
    "# Load your tweet dataset\n",
    "df = pd.read_csv(\"tweets_output.csv\")  # adjust if using a different file name\n",
    "\n",
    "# Ensure datetime is parsed\n",
    "df['created_at'] = pd.to_datetime(df['created_at'])\n",
    "\n",
    "# Generate sentiment if not already present\n",
    "if 'sentiment' not in df.columns:\n",
    "    def get_sentiment(text):\n",
    "        analysis = TextBlob(str(text))\n",
    "        if analysis.sentiment.polarity > 0.05:\n",
    "            return 'positive'\n",
    "        elif analysis.sentiment.polarity < -0.05:\n",
    "            return 'negative'\n",
    "        else:\n",
    "            return 'neutral'\n",
    "    df['sentiment'] = df['text'].apply(get_sentiment)\n",
    "\n",
    "# Export analyzed data\n",
    "df.to_csv(\"analyzed_tweets.csv\", index=False)\n",
    "df.to_excel(\"analyzed_tweets.xlsx\", index=False)\n",
    "\n",
    "# Plot 1: Sentiment Distribution\n",
    "plt.figure(figsize=(6, 4))\n",
    "sns.countplot(data=df, x='sentiment', order=['positive', 'neutral', 'negative'], palette='pastel')\n",
    "plt.title(\"Sentiment Distribution\")\n",
    "plt.xlabel(\"Sentiment\")\n",
    "plt.ylabel(\"Tweet Count\")\n",
    "plt.tight_layout()\n",
    "plt.savefig(\"fig_sentiment_distribution.png\", dpi=300)\n",
    "plt.close()\n",
    "\n",
    "# Plot 2: Tweet Volume Over Time\n",
    "df['date'] = df['created_at'].dt.date\n",
    "plt.figure(figsize=(6, 4))\n",
    "df.groupby('date').size().plot(kind='line', marker='o')\n",
    "plt.title(\"Tweet Volume Over Time\")\n",
    "plt.xlabel(\"Date\")\n",
    "plt.ylabel(\"Number of Tweets\")\n",
    "plt.xticks(rotation=45)\n",
    "plt.tight_layout()\n",
    "plt.savefig(\"fig_tweet_volume.png\", dpi=300)\n",
    "plt.close()\n",
    "\n",
    "# Top liked tweets\n",
    "top_liked = df.sort_values('like_count', ascending=False).head(5)\n",
    "\n",
    "# Word Report Generation\n",
    "doc = Document()\n",
    "doc.add_heading('Tweet Sentiment Analysis Report', 0)\n",
    "\n",
    "# Section: Overview\n",
    "doc.add_heading('Overview', level=1)\n",
    "doc.add_paragraph(\"This report presents an analysis of tweets related to Kenya's polio vaccination communication campaign.\")\n",
    "\n",
    "# Section: Sentiment Summary\n",
    "doc.add_heading('Sentiment Summary', level=1)\n",
    "sentiment_summary = df['sentiment'].value_counts().to_frame()\n",
    "doc.add_paragraph(str(sentiment_summary))\n",
    "\n",
    "# Section: Sentiment Plot\n",
    "doc.add_heading('Sentiment Distribution', level=1)\n",
    "doc.add_picture('fig_sentiment_distribution.png', width=Inches(5.5))\n",
    "\n",
    "# Section: Tweet Volume Plot\n",
    "doc.add_heading('Tweet Volume Over Time', level=1)\n",
    "doc.add_picture('fig_tweet_volume.png', width=Inches(5.5))\n",
    "\n",
    "# Section: Top Tweets\n",
    "doc.add_heading('Top 5 Most Liked Tweets', level=1)\n",
    "for index, row in top_liked.iterrows():\n",
    "    doc.add_paragraph(f\"{row['text']}\\nLikes: {row['like_count']} | Retweets: {row['retweet_count']} | Replies: {row['reply_count']}\\n\", style='List Bullet')\n",
    "\n",
    "# Save report\n",
    "doc.save(\"Tweet_Analysis_Report.docx\")\n",
    "\n",
    "print(\"✅ All done! Files saved:\")\n",
    "print(\"- analyzed_tweets.csv\")\n",
    "print(\"- analyzed_tweets.xlsx\")\n",
    "print(\"- fig_sentiment_distribution.png\")\n",
    "print(\"- fig_tweet_volume.png\")\n",
    "print(\"- Tweet_Analysis_Report.docx\")\n"
   ]
  },
  {
   "cell_type": "code",
   "execution_count": 24,
   "metadata": {},
   "outputs": [
    {
     "name": "stderr",
     "output_type": "stream",
     "text": [
      "C:\\Users\\Administrator\\AppData\\Local\\Temp\\ipykernel_11292\\2136818324.py:33: FutureWarning: \n",
      "\n",
      "Passing `palette` without assigning `hue` is deprecated and will be removed in v0.14.0. Assign the `x` variable to `hue` and set `legend=False` for the same effect.\n",
      "\n",
      "  sns.countplot(data=df, x='sentiment_category', palette='Set2')\n"
     ]
    },
    {
     "name": "stdout",
     "output_type": "stream",
     "text": [
      "✅ Analysis complete! Files saved:\n",
      "- analyzed_tweets.csv\n",
      "- analyzed_tweets.xlsx\n",
      "- fig_sentiment_distribution.png\n",
      "- fig_likes_vs_sentiment.png\n",
      "- tweet_report.docx\n"
     ]
    }
   ],
   "source": [
    "import pandas as pd\n",
    "from textblob import TextBlob\n",
    "import matplotlib.pyplot as plt\n",
    "import seaborn as sns\n",
    "from docx import Document\n",
    "from docx.shared import Inches\n",
    "\n",
    "# Load the tweet data\n",
    "df = pd.read_csv(\"tweets_output.csv\")\n",
    "\n",
    "# Remove timezone info for Excel compatibility\n",
    "df['created_at'] = pd.to_datetime(df['created_at']).dt.tz_localize(None)\n",
    "\n",
    "# Sentiment analysis using TextBlob\n",
    "def get_sentiment(text):\n",
    "    if pd.isna(text):\n",
    "        return 0\n",
    "    return TextBlob(str(text)).sentiment.polarity\n",
    "\n",
    "df['sentiment'] = df['text'].apply(get_sentiment)\n",
    "\n",
    "# Categorize sentiment\n",
    "df['sentiment_category'] = df['sentiment'].apply(\n",
    "    lambda x: 'Positive' if x > 0 else ('Negative' if x < 0 else 'Neutral')\n",
    ")\n",
    "\n",
    "# Export data\n",
    "df.to_csv(\"analyzed_tweets.csv\", index=False)\n",
    "df.to_excel(\"analyzed_tweets.xlsx\", index=False)\n",
    "\n",
    "# Plot 1: Sentiment distribution\n",
    "plt.figure(figsize=(6, 4))\n",
    "sns.countplot(data=df, x='sentiment_category', palette='Set2')\n",
    "plt.title(\"Tweet Sentiment Distribution\")\n",
    "plt.xlabel(\"Sentiment Category\")\n",
    "plt.ylabel(\"Tweet Count\")\n",
    "plt.tight_layout()\n",
    "plt.savefig(\"fig_sentiment_distribution.png\")\n",
    "plt.close()\n",
    "\n",
    "# Plot 2: Likes vs Sentiment scatter\n",
    "plt.figure(figsize=(6, 4))\n",
    "sns.scatterplot(data=df, x='sentiment', y='like_count', hue='sentiment_category', palette='Set2')\n",
    "plt.title(\"Likes vs Sentiment\")\n",
    "plt.xlabel(\"Sentiment Polarity\")\n",
    "plt.ylabel(\"Like Count\")\n",
    "plt.tight_layout()\n",
    "plt.savefig(\"fig_likes_vs_sentiment.png\")\n",
    "plt.close()\n",
    "\n",
    "# Create Word report\n",
    "doc = Document()\n",
    "doc.add_heading(\"Polio Vaccine Communication on Twitter – Analysis Report\", 0)\n",
    "\n",
    "doc.add_heading(\"Sentiment Overview\", level=1)\n",
    "summary = df['sentiment_category'].value_counts().to_frame().reset_index()\n",
    "summary.columns = ['Sentiment', 'Count']\n",
    "doc.add_paragraph(summary.to_string(index=False))\n",
    "\n",
    "doc.add_heading(\"Figure 1: Sentiment Distribution\", level=1)\n",
    "doc.add_picture(\"fig_sentiment_distribution.png\", width=Inches(5.5))\n",
    "\n",
    "doc.add_heading(\"Figure 2: Likes vs Sentiment\", level=1)\n",
    "doc.add_picture(\"fig_likes_vs_sentiment.png\", width=Inches(5.5))\n",
    "\n",
    "doc.add_heading(\"Sample Tweets\", level=1)\n",
    "sample = df[['tweet_id', 'created_at', 'text', 'sentiment_category']].head(5)\n",
    "for _, row in sample.iterrows():\n",
    "    doc.add_paragraph(f\"[{row['sentiment_category']}] {row['created_at']} — {row['text']}\")\n",
    "\n",
    "doc.save(\"tweet_report.docx\")\n",
    "\n",
    "print(\"✅ Analysis complete! Files saved:\\n- analyzed_tweets.csv\\n- analyzed_tweets.xlsx\\n- fig_sentiment_distribution.png\\n- fig_likes_vs_sentiment.png\\n- tweet_report.docx\")\n"
   ]
  },
  {
   "cell_type": "code",
   "execution_count": 25,
   "metadata": {},
   "outputs": [
    {
     "name": "stdout",
     "output_type": "stream",
     "text": [
      "✅ Analysis complete. Outputs saved as:\n",
      "- analyzed_tweets.csv\n",
      "- analyzed_tweets.xlsx\n",
      "- fig_sentiment_distribution.png\n",
      "- fig_sentiment_over_time.png\n"
     ]
    }
   ],
   "source": [
    "import pandas as pd\n",
    "import matplotlib.pyplot as plt\n",
    "import seaborn as sns\n",
    "from textblob import TextBlob\n",
    "from datetime import datetime\n",
    "import pytz\n",
    "\n",
    "# Load the tweets\n",
    "df = pd.read_csv(\"tweets_output.csv\")\n",
    "\n",
    "# Convert datetime and remove timezone for Excel compatibility\n",
    "df['created_at'] = pd.to_datetime(df['created_at']).dt.tz_localize(None)\n",
    "\n",
    "# Sentiment analysis using TextBlob\n",
    "def get_sentiment(text):\n",
    "    blob = TextBlob(str(text))\n",
    "    return blob.sentiment.polarity\n",
    "\n",
    "df['sentiment_score'] = df['text'].apply(get_sentiment)\n",
    "\n",
    "def categorize_sentiment(score):\n",
    "    if score > 0.1:\n",
    "        return 'positive'\n",
    "    elif score < -0.1:\n",
    "        return 'negative'\n",
    "    else:\n",
    "        return 'neutral'\n",
    "\n",
    "df['sentiment_category'] = df['sentiment_score'].apply(categorize_sentiment)\n",
    "\n",
    "# Export to CSV and Excel\n",
    "df.to_csv(\"analyzed_tweets.csv\", index=False)\n",
    "df.to_excel(\"analyzed_tweets.xlsx\", index=False)\n",
    "\n",
    "# Plot 1: Sentiment distribution\n",
    "plt.figure(figsize=(6, 4))\n",
    "sns.countplot(data=df, x='sentiment_category', hue='sentiment_category', palette='Set2', legend=False)\n",
    "plt.title(\"Tweet Sentiment Distribution\")\n",
    "plt.xlabel(\"Sentiment Category\")\n",
    "plt.ylabel(\"Tweet Count\")\n",
    "plt.tight_layout()\n",
    "plt.savefig(\"fig_sentiment_distribution.png\")\n",
    "plt.close()\n",
    "\n",
    "# Plot 2: Sentiment over time\n",
    "df['date'] = pd.to_datetime(df['created_at']).dt.date\n",
    "daily_sentiment = df.groupby('date')['sentiment_score'].mean().reset_index()\n",
    "\n",
    "plt.figure(figsize=(8, 4))\n",
    "sns.lineplot(data=daily_sentiment, x='date', y='sentiment_score', marker='o')\n",
    "plt.title(\"Average Sentiment Score Over Time\")\n",
    "plt.xlabel(\"Date\")\n",
    "plt.ylabel(\"Average Sentiment\")\n",
    "plt.xticks(rotation=45)\n",
    "plt.tight_layout()\n",
    "plt.savefig(\"fig_sentiment_over_time.png\")\n",
    "plt.close()\n",
    "\n",
    "print(\"✅ Analysis complete. Outputs saved as:\")\n",
    "print(\"- analyzed_tweets.csv\")\n",
    "print(\"- analyzed_tweets.xlsx\")\n",
    "print(\"- fig_sentiment_distribution.png\")\n",
    "print(\"- fig_sentiment_over_time.png\")\n"
   ]
  },
  {
   "cell_type": "code",
   "execution_count": null,
   "metadata": {},
   "outputs": [],
   "source": [
   
